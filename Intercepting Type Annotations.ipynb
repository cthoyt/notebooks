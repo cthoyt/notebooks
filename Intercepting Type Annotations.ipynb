{
 "cells": [
  {
   "cell_type": "markdown",
   "metadata": {},
   "source": [
    "Step one is to make a class that sort of spits out new classes that are subclasses of the given class and the new class"
   ]
  },
  {
   "cell_type": "code",
   "execution_count": 2,
   "metadata": {},
   "outputs": [],
   "source": [
    "class KType:\n",
    "    registry = {}\n",
    "    \n",
    "    @classmethod\n",
    "    def __class_getitem__(cls, x):   \n",
    "        t = cls.registry.get(x)\n",
    "        if t is not None:\n",
    "            return t\n",
    "        cls.registry[x] = type(f'ktype_{x.__name__}', (x, cls), {})    \n",
    "        return cls.registry[x]\n",
    "    \n",
    "    @classmethod\n",
    "    def __subclasscheck__(cls, o):\n",
    "        return o in cls.registry\n",
    "\n",
    "# Check that shit out\n",
    "assert issubclass(KType[int], KType)"
   ]
  },
  {
   "cell_type": "markdown",
   "metadata": {},
   "source": [
    "Step 2 is to make a class that checks for type annotations of this type and save them for later"
   ]
  },
  {
   "cell_type": "code",
   "execution_count": null,
   "metadata": {},
   "outputs": [],
   "source": [
    "class A:\n",
    "    def __init__(self, x: int):\n",
    "        self.x = x\n",
    "   \n",
    "    def __repr__(self) -> None:\n",
    "        return f'{self.__class__.__name__}(x={self.x})'\n",
    "     \n",
    "    @classmethod\n",
    "    def __init_subclass__(cls, **kwargs):\n",
    "        super().__init_subclass__(**kwargs)\n",
    "        cls.ktypes = {\n",
    "            name: anno\n",
    "            for name, anno in cls.__init__.__annotations__.items()\n",
    "            if name != 'return' and issubclass(anno, KType)\n",
    "        }"
   ]
  },
  {
   "cell_type": "markdown",
   "metadata": {},
   "source": [
    "Step 3 is to go wild and make classes like this"
   ]
  },
  {
   "cell_type": "code",
   "execution_count": 3,
   "metadata": {},
   "outputs": [
    {
     "data": {
      "text/plain": [
       "({'y': __main__.ktype_str}, {'y': __main__.ktype_str, 'z': __main__.ktype_int})"
      ]
     },
     "execution_count": 3,
     "metadata": {},
     "output_type": "execute_result"
    }
   ],
   "source": [
    "          \n",
    "class B(A):\n",
    "    def __init__(self, x: int, y: KType[str]) -> None:\n",
    "        super().__init__(x)\n",
    "        self.y = y\n",
    "        \n",
    "    def __repr__(self):\n",
    "        return f'{self.__class__.__name__}(x={self.x}, y={self.y})'\n",
    "        \n",
    "        \n",
    "class C(B):\n",
    "    def __init__(self, x: int, y: KType[str], z: KType[int]) -> None:\n",
    "        super().__init__(x, y)\n",
    "        self.z = z\n",
    "        \n",
    "    def __repr__(self):\n",
    "        return f'{self.__class__.__name__}(x={self.x}, y={self.y}, z={self.z})'\n",
    "    \n",
    "    \n",
    "B.ktypes, C.ktypes"
   ]
  }
 ],
 "metadata": {
  "kernelspec": {
   "display_name": "Python 3",
   "language": "python",
   "name": "python3"
  },
  "language_info": {
   "codemirror_mode": {
    "name": "ipython",
    "version": 3
   },
   "file_extension": ".py",
   "mimetype": "text/x-python",
   "name": "python",
   "nbconvert_exporter": "python",
   "pygments_lexer": "ipython3",
   "version": "3.7.3"
  }
 },
 "nbformat": 4,
 "nbformat_minor": 2
}
