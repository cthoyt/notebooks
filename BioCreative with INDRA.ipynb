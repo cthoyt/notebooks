{
 "cells": [
  {
   "cell_type": "code",
   "execution_count": 1,
   "metadata": {},
   "outputs": [
    {
     "name": "stderr",
     "output_type": "stream",
     "text": [
      "WARNING: indra/crossref - CrossRef Clickthrough API key could not be found at:\n",
      "WARNING: indra/crossref - /Users/cthoyt/dev/indra/indra/literature/cr_clickthrough_key\n",
      "WARNING: indra/elsevier - Elsevier API keys file could not be read, trying environment variables $ELSEVIER_API_KEY and $ELSEVIER_INST_KEY.\n",
      "INFO: indra/elsevier - No Elsevier institution key found in environment variable ELSEVIER_INST_KEY.\n",
      "WARNING: indra/elsevier - No Elsevier API key found in environment variable ELSEVIER_API_KEY.\n",
      "ERROR: indra/reach - Could not import jnius, offline reading cannot be used.\n"
     ]
    }
   ],
   "source": [
    "from indra.sources import trips\n",
    "from indra.sources import reach\n",
    "import pandas as pd\n",
    "from indra.assemblers import PybelAssembler\n",
    "from pybel.canonicalize import edge_to_bel"
   ]
  },
  {
   "cell_type": "markdown",
   "metadata": {},
   "source": [
    "# Data Acquisition"
   ]
  },
  {
   "cell_type": "code",
   "execution_count": 2,
   "metadata": {},
   "outputs": [
    {
     "data": {
      "text/html": [
       "<div>\n",
       "<style>\n",
       "    .dataframe thead tr:only-child th {\n",
       "        text-align: right;\n",
       "    }\n",
       "\n",
       "    .dataframe thead th {\n",
       "        text-align: left;\n",
       "    }\n",
       "\n",
       "    .dataframe tbody tr th {\n",
       "        vertical-align: top;\n",
       "    }\n",
       "</style>\n",
       "<table border=\"1\" class=\"dataframe\">\n",
       "  <thead>\n",
       "    <tr style=\"text-align: right;\">\n",
       "      <th></th>\n",
       "      <th>Sentence-ID</th>\n",
       "      <th>PMID</th>\n",
       "      <th>Sentence</th>\n",
       "    </tr>\n",
       "  </thead>\n",
       "  <tbody>\n",
       "    <tr>\n",
       "      <th>0</th>\n",
       "      <td>SEN:10000006</td>\n",
       "      <td>7557387</td>\n",
       "      <td>Induction of C/EBP beta DNA-binding activity i...</td>\n",
       "    </tr>\n",
       "    <tr>\n",
       "      <th>1</th>\n",
       "      <td>SEN:10000010</td>\n",
       "      <td>7988462</td>\n",
       "      <td>Pulse-chase biosynthetic labeling studies show...</td>\n",
       "    </tr>\n",
       "    <tr>\n",
       "      <th>2</th>\n",
       "      <td>SEN:10000018</td>\n",
       "      <td>8856503</td>\n",
       "      <td>We have identified glucocorticoids as physiolo...</td>\n",
       "    </tr>\n",
       "    <tr>\n",
       "      <th>3</th>\n",
       "      <td>SEN:10000020</td>\n",
       "      <td>9112333</td>\n",
       "      <td>interleukin 1 receptor antagonist (IL-1ra) is ...</td>\n",
       "    </tr>\n",
       "    <tr>\n",
       "      <th>4</th>\n",
       "      <td>SEN:10000022</td>\n",
       "      <td>9291476</td>\n",
       "      <td>Treatment with RU486, a progesterone receptor ...</td>\n",
       "    </tr>\n",
       "  </tbody>\n",
       "</table>\n",
       "</div>"
      ],
      "text/plain": [
       "    Sentence-ID     PMID                                           Sentence\n",
       "0  SEN:10000006  7557387  Induction of C/EBP beta DNA-binding activity i...\n",
       "1  SEN:10000010  7988462  Pulse-chase biosynthetic labeling studies show...\n",
       "2  SEN:10000018  8856503  We have identified glucocorticoids as physiolo...\n",
       "3  SEN:10000020  9112333  interleukin 1 receptor antagonist (IL-1ra) is ...\n",
       "4  SEN:10000022  9291476  Treatment with RU486, a progesterone receptor ..."
      ]
     },
     "execution_count": 2,
     "metadata": {},
     "output_type": "execute_result"
    }
   ],
   "source": [
    "training_url = 'https://wiki.openbel.org/download/attachments/11108491/Training.sentence?version=2&modificationDate=1426865542000&api=v2'\n",
    "\n",
    "training_df = pd.read_csv(training_url, sep='\\t')\n",
    "training_df.head()"
   ]
  },
  {
   "cell_type": "code",
   "execution_count": 3,
   "metadata": {},
   "outputs": [
    {
     "data": {
      "text/html": [
       "<div>\n",
       "<style>\n",
       "    .dataframe thead tr:only-child th {\n",
       "        text-align: right;\n",
       "    }\n",
       "\n",
       "    .dataframe thead th {\n",
       "        text-align: left;\n",
       "    }\n",
       "\n",
       "    .dataframe tbody tr th {\n",
       "        vertical-align: top;\n",
       "    }\n",
       "</style>\n",
       "<table border=\"1\" class=\"dataframe\">\n",
       "  <thead>\n",
       "    <tr style=\"text-align: right;\">\n",
       "      <th></th>\n",
       "      <th>Sentence-ID</th>\n",
       "      <th>PMID</th>\n",
       "      <th>Sentence</th>\n",
       "    </tr>\n",
       "  </thead>\n",
       "  <tbody>\n",
       "    <tr>\n",
       "      <th>0</th>\n",
       "      <td>SEN:10003274</td>\n",
       "      <td>18032669</td>\n",
       "      <td>Alcohol and heat stimulate the translocation o...</td>\n",
       "    </tr>\n",
       "    <tr>\n",
       "      <th>1</th>\n",
       "      <td>SEN:10003350</td>\n",
       "      <td>11267935</td>\n",
       "      <td>TGF-beta increased the expression of PAI-1, ju...</td>\n",
       "    </tr>\n",
       "    <tr>\n",
       "      <th>2</th>\n",
       "      <td>SEN:10003358</td>\n",
       "      <td>10688433</td>\n",
       "      <td>Dexamethasone decreased ICAM-3 and increased L...</td>\n",
       "    </tr>\n",
       "    <tr>\n",
       "      <th>3</th>\n",
       "      <td>SEN:10003390</td>\n",
       "      <td>8428935</td>\n",
       "      <td>We conclude that ethanol exposure enhances exp...</td>\n",
       "    </tr>\n",
       "    <tr>\n",
       "      <th>4</th>\n",
       "      <td>SEN:10003462</td>\n",
       "      <td>12421982</td>\n",
       "      <td>Following i.v. infusion of LPS into mice, up-r...</td>\n",
       "    </tr>\n",
       "  </tbody>\n",
       "</table>\n",
       "</div>"
      ],
      "text/plain": [
       "    Sentence-ID      PMID                                           Sentence\n",
       "0  SEN:10003274  18032669  Alcohol and heat stimulate the translocation o...\n",
       "1  SEN:10003350  11267935  TGF-beta increased the expression of PAI-1, ju...\n",
       "2  SEN:10003358  10688433  Dexamethasone decreased ICAM-3 and increased L...\n",
       "3  SEN:10003390   8428935  We conclude that ethanol exposure enhances exp...\n",
       "4  SEN:10003462  12421982  Following i.v. infusion of LPS into mice, up-r..."
      ]
     },
     "execution_count": 3,
     "metadata": {},
     "output_type": "execute_result"
    }
   ],
   "source": [
    "test_url = 'https://wiki.openbel.org/download/attachments/11108491/Test.sentence?version=1&modificationDate=1434282678000&api=v2'\n",
    "\n",
    "test_df = pd.read_csv(test_url, sep='\\t', names=('Sentence-ID', 'PMID', 'Sentence'))\n",
    "test_df.head()"
   ]
  },
  {
   "cell_type": "code",
   "execution_count": 4,
   "metadata": {},
   "outputs": [
    {
     "data": {
      "text/html": [
       "<div>\n",
       "<style>\n",
       "    .dataframe thead tr:only-child th {\n",
       "        text-align: right;\n",
       "    }\n",
       "\n",
       "    .dataframe thead th {\n",
       "        text-align: left;\n",
       "    }\n",
       "\n",
       "    .dataframe tbody tr th {\n",
       "        vertical-align: top;\n",
       "    }\n",
       "</style>\n",
       "<table border=\"1\" class=\"dataframe\">\n",
       "  <thead>\n",
       "    <tr style=\"text-align: right;\">\n",
       "      <th></th>\n",
       "      <th>Sentence ID</th>\n",
       "      <th>PMID</th>\n",
       "      <th>Sentence</th>\n",
       "    </tr>\n",
       "  </thead>\n",
       "  <tbody>\n",
       "    <tr>\n",
       "      <th>0</th>\n",
       "      <td>SEN:201710001</td>\n",
       "      <td>25377781</td>\n",
       "      <td>Activation of c-Src by JNK2 was accompanied by...</td>\n",
       "    </tr>\n",
       "    <tr>\n",
       "      <th>1</th>\n",
       "      <td>SEN:201710002</td>\n",
       "      <td>23656735</td>\n",
       "      <td>Additionally, siRNA-induced knockdown of p38 k...</td>\n",
       "    </tr>\n",
       "    <tr>\n",
       "      <th>2</th>\n",
       "      <td>SEN:201710003</td>\n",
       "      <td>23656735</td>\n",
       "      <td>Additionally, the siRNA-induced knockdown of p...</td>\n",
       "    </tr>\n",
       "    <tr>\n",
       "      <th>3</th>\n",
       "      <td>SEN:201710004</td>\n",
       "      <td>23656735</td>\n",
       "      <td>Additionally, the siRNA knockdown of ATF-2 als...</td>\n",
       "    </tr>\n",
       "    <tr>\n",
       "      <th>4</th>\n",
       "      <td>SEN:201710005</td>\n",
       "      <td>24732359</td>\n",
       "      <td>After 72 h of S100A4-knockdown in HLC-1 and LK...</td>\n",
       "    </tr>\n",
       "  </tbody>\n",
       "</table>\n",
       "</div>"
      ],
      "text/plain": [
       "     Sentence ID      PMID                                           Sentence\n",
       "0  SEN:201710001  25377781  Activation of c-Src by JNK2 was accompanied by...\n",
       "1  SEN:201710002  23656735  Additionally, siRNA-induced knockdown of p38 k...\n",
       "2  SEN:201710003  23656735  Additionally, the siRNA-induced knockdown of p...\n",
       "3  SEN:201710004  23656735  Additionally, the siRNA knockdown of ATF-2 als...\n",
       "4  SEN:201710005  24732359  After 72 h of S100A4-knockdown in HLC-1 and LK..."
      ]
     },
     "execution_count": 4,
     "metadata": {},
     "output_type": "execute_result"
    }
   ],
   "source": [
    "evaluation_url = 'https://wiki.openbel.org/download/attachments/19169286/BELTask1_2017.testset.sentence?version=1&modificationDate=1500897598000&api=v2'\n",
    "\n",
    "evaluation_df = pd.read_csv(evaluation_url, sep='\\t')\n",
    "evaluation_df.head()"
   ]
  },
  {
   "cell_type": "markdown",
   "metadata": {},
   "source": [
    "# Example Conversion to BEL with INDRA"
   ]
  },
  {
   "cell_type": "code",
   "execution_count": 5,
   "metadata": {},
   "outputs": [
    {
     "data": {
      "text/plain": [
       "'Pulse-chase biosynthetic labeling studies showed that AtT-20 cells expressed much less RESP18 than the endogenous prohormone, POMC, but that glucocorticoid treatment lowered POMC and raised RESP18 biosynthetic rates so that they were nearly equimolar.'"
      ]
     },
     "execution_count": 5,
     "metadata": {},
     "output_type": "execute_result"
    }
   ],
   "source": [
    "sentence_id, pmid, sentence = training_df.loc[1]\n",
    "sentence"
   ]
  },
  {
   "cell_type": "markdown",
   "metadata": {},
   "source": [
    "## Using TRIPS\n",
    "\n",
    "The following example makes an extraction with the [TRIPS processor](http://indra.readthedocs.io/en/latest/modules/sources/trips/index.html#indra.sources.trips.trips_api.process_text)."
   ]
  },
  {
   "cell_type": "code",
   "execution_count": 6,
   "metadata": {},
   "outputs": [
    {
     "name": "stdout",
     "output_type": "stream",
     "text": [
      "CPU times: user 22.8 ms, sys: 7.38 ms, total: 30.2 ms\n",
      "Wall time: 1min 53s\n"
     ]
    }
   ],
   "source": [
    "%%time\n",
    "trips_result = trips.process_text(sentence)"
   ]
  },
  {
   "cell_type": "code",
   "execution_count": 7,
   "metadata": {},
   "outputs": [
    {
     "data": {
      "text/plain": [
       "0"
      ]
     },
     "execution_count": 7,
     "metadata": {},
     "output_type": "execute_result"
    }
   ],
   "source": [
    "len(trips_result.statements)"
   ]
  },
  {
   "cell_type": "code",
   "execution_count": 8,
   "metadata": {},
   "outputs": [],
   "source": [
    "trips_assembly = PybelAssembler(trips_result.statements, name='TRIPS Test', version='0.0.1')"
   ]
  },
  {
   "cell_type": "code",
   "execution_count": 9,
   "metadata": {},
   "outputs": [],
   "source": [
    "for u, v, k, d in trips_assembly.model.edges():\n",
    "    print(edge_to_bel(trips_assembly.model, u, v, d))"
   ]
  },
  {
   "cell_type": "markdown",
   "metadata": {},
   "source": [
    "## Using REACH\n",
    "\n",
    "The following example makes an extraction with the [REACH processor](http://indra.readthedocs.io/en/latest/modules/sources/reach/index.html#indra.sources.reach.reach_api.process_text)"
   ]
  },
  {
   "cell_type": "code",
   "execution_count": 10,
   "metadata": {},
   "outputs": [
    {
     "name": "stdout",
     "output_type": "stream",
     "text": [
      "CPU times: user 6.07 ms, sys: 2.27 ms, total: 8.34 ms\n",
      "Wall time: 1.48 s\n"
     ]
    }
   ],
   "source": [
    "%%time\n",
    "reach_result = reach.process_text(sentence)"
   ]
  },
  {
   "cell_type": "code",
   "execution_count": 11,
   "metadata": {},
   "outputs": [
    {
     "data": {
      "text/plain": [
       "0"
      ]
     },
     "execution_count": 11,
     "metadata": {},
     "output_type": "execute_result"
    }
   ],
   "source": [
    "len(reach_result.statements)"
   ]
  },
  {
   "cell_type": "code",
   "execution_count": 12,
   "metadata": {},
   "outputs": [],
   "source": [
    "reach_assembly = PybelAssembler(reach_result.statements, name='REACH Test', version='0.0.1')"
   ]
  },
  {
   "cell_type": "code",
   "execution_count": 13,
   "metadata": {},
   "outputs": [],
   "source": [
    "for u, v, k, d in reach_assembly.model.edges():\n",
    "    print(edge_to_bel(reach_assembly.model, u, v, d))"
   ]
  }
 ],
 "metadata": {
  "kernelspec": {
   "display_name": "Python 3",
   "language": "python",
   "name": "python3"
  },
  "language_info": {
   "codemirror_mode": {
    "name": "ipython",
    "version": 3
   },
   "file_extension": ".py",
   "mimetype": "text/x-python",
   "name": "python",
   "nbconvert_exporter": "python",
   "pygments_lexer": "ipython3",
   "version": "3.6.3"
  }
 },
 "nbformat": 4,
 "nbformat_minor": 2
}
