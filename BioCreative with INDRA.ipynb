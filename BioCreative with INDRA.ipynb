{
 "cells": [
  {
   "cell_type": "code",
   "execution_count": 1,
   "metadata": {},
   "outputs": [
    {
     "name": "stderr",
     "output_type": "stream",
     "text": [
      "ERROR: indra/graph_assembler - Cannot use graph assembler because pygraphviz could not be imported.\n",
      "WARNING: indra/crossref - CrossRef Clickthrough API key could not be found at:\n",
      "WARNING: indra/crossref - /Users/cthoyt/dev/indra/indra/literature/cr_clickthrough_key\n",
      "WARNING: indra/elsevier - Elsevier API keys file could not be read, trying environment variables $ELSEVIER_API_KEY and $ELSEVIER_INST_KEY.\n",
      "INFO: indra/elsevier - No Elsevier institution key found in environment variable ELSEVIER_INST_KEY.\n",
      "WARNING: indra/elsevier - No Elsevier API key found in environment variable ELSEVIER_API_KEY.\n"
     ]
    }
   ],
   "source": [
    "from indra.sources import trips\n",
    "from indra.sources import reach\n",
    "import pandas as pd\n",
    "from indra.assemblers import PybelAssembler\n",
    "from pybel.canonicalize import edge_to_bel"
   ]
  },
  {
   "cell_type": "code",
   "execution_count": 2,
   "metadata": {},
   "outputs": [],
   "source": [
    "df = pd.read_csv('/Users/cthoyt/Downloads/Training.tsv', sep='\\t')"
   ]
  },
  {
   "cell_type": "code",
   "execution_count": 3,
   "metadata": {},
   "outputs": [
    {
     "data": {
      "text/html": [
       "<div>\n",
       "<style>\n",
       "    .dataframe thead tr:only-child th {\n",
       "        text-align: right;\n",
       "    }\n",
       "\n",
       "    .dataframe thead th {\n",
       "        text-align: left;\n",
       "    }\n",
       "\n",
       "    .dataframe tbody tr th {\n",
       "        vertical-align: top;\n",
       "    }\n",
       "</style>\n",
       "<table border=\"1\" class=\"dataframe\">\n",
       "  <thead>\n",
       "    <tr style=\"text-align: right;\">\n",
       "      <th></th>\n",
       "      <th>Sentence-ID</th>\n",
       "      <th>PMID</th>\n",
       "      <th>Sentence</th>\n",
       "    </tr>\n",
       "  </thead>\n",
       "  <tbody>\n",
       "    <tr>\n",
       "      <th>0</th>\n",
       "      <td>SEN:10000006</td>\n",
       "      <td>7557387</td>\n",
       "      <td>Induction of C/EBP beta DNA-binding activity i...</td>\n",
       "    </tr>\n",
       "    <tr>\n",
       "      <th>1</th>\n",
       "      <td>SEN:10000010</td>\n",
       "      <td>7988462</td>\n",
       "      <td>Pulse-chase biosynthetic labeling studies show...</td>\n",
       "    </tr>\n",
       "    <tr>\n",
       "      <th>2</th>\n",
       "      <td>SEN:10000018</td>\n",
       "      <td>8856503</td>\n",
       "      <td>We have identified glucocorticoids as physiolo...</td>\n",
       "    </tr>\n",
       "    <tr>\n",
       "      <th>3</th>\n",
       "      <td>SEN:10000020</td>\n",
       "      <td>9112333</td>\n",
       "      <td>interleukin 1 receptor antagonist (IL-1ra) is ...</td>\n",
       "    </tr>\n",
       "    <tr>\n",
       "      <th>4</th>\n",
       "      <td>SEN:10000022</td>\n",
       "      <td>9291476</td>\n",
       "      <td>Treatment with RU486, a progesterone receptor ...</td>\n",
       "    </tr>\n",
       "  </tbody>\n",
       "</table>\n",
       "</div>"
      ],
      "text/plain": [
       "    Sentence-ID     PMID                                           Sentence\n",
       "0  SEN:10000006  7557387  Induction of C/EBP beta DNA-binding activity i...\n",
       "1  SEN:10000010  7988462  Pulse-chase biosynthetic labeling studies show...\n",
       "2  SEN:10000018  8856503  We have identified glucocorticoids as physiolo...\n",
       "3  SEN:10000020  9112333  interleukin 1 receptor antagonist (IL-1ra) is ...\n",
       "4  SEN:10000022  9291476  Treatment with RU486, a progesterone receptor ..."
      ]
     },
     "execution_count": 3,
     "metadata": {},
     "output_type": "execute_result"
    }
   ],
   "source": [
    "df.head()"
   ]
  },
  {
   "cell_type": "code",
   "execution_count": 4,
   "metadata": {},
   "outputs": [
    {
     "data": {
      "text/plain": [
       "'Induction of C/EBP beta DNA-binding activity in NIH-3T3 beta 2 cells exposed to dexamethasone in the presence of insulin and fetal bovine serum activates the expression of an adipocyte-specific nuclear hormone receptor, PPAR gamma, that stimulates the conversion of these fibroblasts into committed preadipocytes'"
      ]
     },
     "execution_count": 4,
     "metadata": {},
     "output_type": "execute_result"
    }
   ],
   "source": [
    "sentence_id, pmid, sentence = df.loc[0]\n",
    "sentence"
   ]
  },
  {
   "cell_type": "markdown",
   "metadata": {},
   "source": [
    "The following example makes an extraction with the [TRIPS processor](http://indra.readthedocs.io/en/latest/modules/sources/trips/index.html#indra.sources.trips.trips_api.process_text)."
   ]
  },
  {
   "cell_type": "code",
   "execution_count": 5,
   "metadata": {},
   "outputs": [
    {
     "name": "stdout",
     "output_type": "stream",
     "text": [
      "CPU times: user 29 ms, sys: 10.1 ms, total: 39.2 ms\n",
      "Wall time: 1min\n"
     ]
    }
   ],
   "source": [
    "%%time\n",
    "trips_result = trips.process_text(sentence)"
   ]
  },
  {
   "cell_type": "code",
   "execution_count": 10,
   "metadata": {},
   "outputs": [
    {
     "data": {
      "text/plain": [
       "0"
      ]
     },
     "execution_count": 10,
     "metadata": {},
     "output_type": "execute_result"
    }
   ],
   "source": [
    "len(trips_result.statements)"
   ]
  },
  {
   "cell_type": "code",
   "execution_count": 6,
   "metadata": {},
   "outputs": [],
   "source": [
    "trips_assembly = PybelAssembler(trips_result.statements, name='TRIPS Test', version='0.0.1')"
   ]
  },
  {
   "cell_type": "code",
   "execution_count": 7,
   "metadata": {},
   "outputs": [],
   "source": [
    "for u, v, k, d in trips_assembly.model.edges():\n",
    "    print(edge_to_bel(trips_assembly.model, u, v, d))"
   ]
  },
  {
   "cell_type": "markdown",
   "metadata": {},
   "source": [
    "The following example makes an extraction with the [REACH processor](http://indra.readthedocs.io/en/latest/modules/sources/reach/index.html#indra.sources.reach.reach_api.process_text)"
   ]
  },
  {
   "cell_type": "code",
   "execution_count": 21,
   "metadata": {},
   "outputs": [
    {
     "name": "stdout",
     "output_type": "stream",
     "text": [
      "CPU times: user 6.57 ms, sys: 2.78 ms, total: 9.35 ms\n",
      "Wall time: 1.85 s\n"
     ]
    }
   ],
   "source": [
    "%%time\n",
    "reach_result = reach.process_text(sentence)"
   ]
  },
  {
   "cell_type": "code",
   "execution_count": 20,
   "metadata": {},
   "outputs": [
    {
     "data": {
      "text/plain": [
       "0"
      ]
     },
     "execution_count": 20,
     "metadata": {},
     "output_type": "execute_result"
    }
   ],
   "source": [
    "len(reach_result.statements)"
   ]
  },
  {
   "cell_type": "code",
   "execution_count": null,
   "metadata": {},
   "outputs": [],
   "source": [
    "reach_assembly = PybelAssembler(reach_result.statements, name='REACH Test', version='0.0.1')"
   ]
  },
  {
   "cell_type": "code",
   "execution_count": null,
   "metadata": {},
   "outputs": [],
   "source": [
    "for u, v, k, d in reach_assembly.model.edges():\n",
    "    print(edge_to_bel(reach_assembly.model, u, v, d))"
   ]
  }
 ],
 "metadata": {
  "kernelspec": {
   "display_name": "Python 3",
   "language": "python",
   "name": "python3"
  },
  "language_info": {
   "codemirror_mode": {
    "name": "ipython",
    "version": 3
   },
   "file_extension": ".py",
   "mimetype": "text/x-python",
   "name": "python",
   "nbconvert_exporter": "python",
   "pygments_lexer": "ipython3",
   "version": "3.6.3"
  }
 },
 "nbformat": 4,
 "nbformat_minor": 2
}
