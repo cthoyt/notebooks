{
 "cells": [
  {
   "cell_type": "code",
   "execution_count": 13,
   "metadata": {},
   "outputs": [],
   "source": [
    "import os\n",
    "import time\n",
    "import sklearn\n",
    "import numpy as np\n",
    "import scipy as scp\n",
    "import matplotlib.pyplot as plt\n",
    "import pandas as pd\n",
    "from sklearn import linear_model\n",
    "from sklearn import metrics, cross_validation\n",
    "import seaborn as sns"
   ]
  },
  {
   "cell_type": "code",
   "execution_count": 2,
   "metadata": {
    "collapsed": true
   },
   "outputs": [],
   "source": [
    "%matplotlib inline"
   ]
  },
  {
   "cell_type": "code",
   "execution_count": 3,
   "metadata": {},
   "outputs": [
    {
     "data": {
      "text/plain": [
       "'Sun Apr 23 19:57:56 2017'"
      ]
     },
     "execution_count": 3,
     "metadata": {},
     "output_type": "execute_result"
    }
   ],
   "source": [
    "time.asctime()"
   ]
  },
  {
   "cell_type": "code",
   "execution_count": 4,
   "metadata": {
    "collapsed": true
   },
   "outputs": [],
   "source": [
    "df = pd.read_csv(os.path.expanduser('/Users/cthoyt/Downloads/esrd_timeseries_admit_comorbidities9_10_all.csv'))"
   ]
  },
  {
   "cell_type": "code",
   "execution_count": 5,
   "metadata": {},
   "outputs": [
    {
     "data": {
      "text/html": [
       "<div>\n",
       "<table border=\"1\" class=\"dataframe\">\n",
       "  <thead>\n",
       "    <tr style=\"text-align: right;\">\n",
       "      <th></th>\n",
       "      <th>Unnamed: 0</th>\n",
       "      <th>pie.id</th>\n",
       "      <th>timedelta</th>\n",
       "      <th>creatinine</th>\n",
       "      <th>clearance</th>\n",
       "      <th>Contrast_volume</th>\n",
       "      <th>PCI_type</th>\n",
       "      <th>Stents</th>\n",
       "      <th>Prehydration</th>\n",
       "      <th>Posthydration</th>\n",
       "      <th>...</th>\n",
       "      <th>Hypertension</th>\n",
       "      <th>CKD</th>\n",
       "      <th>Afib</th>\n",
       "      <th>COPD</th>\n",
       "      <th>CAD</th>\n",
       "      <th>Diabetes</th>\n",
       "      <th>HF</th>\n",
       "      <th>STEMI</th>\n",
       "      <th>NSTEMI</th>\n",
       "      <th>VFIB</th>\n",
       "    </tr>\n",
       "  </thead>\n",
       "  <tbody>\n",
       "    <tr>\n",
       "      <th>0</th>\n",
       "      <td>3</td>\n",
       "      <td>121870698</td>\n",
       "      <td>0 days 12:39:00</td>\n",
       "      <td>1.4</td>\n",
       "      <td>38.609127</td>\n",
       "      <td>100</td>\n",
       "      <td>LM</td>\n",
       "      <td>1</td>\n",
       "      <td>1086.0</td>\n",
       "      <td>2974</td>\n",
       "      <td>...</td>\n",
       "      <td>True</td>\n",
       "      <td>True</td>\n",
       "      <td>False</td>\n",
       "      <td>True</td>\n",
       "      <td>True</td>\n",
       "      <td>False</td>\n",
       "      <td>True</td>\n",
       "      <td>N</td>\n",
       "      <td>N</td>\n",
       "      <td>N</td>\n",
       "    </tr>\n",
       "    <tr>\n",
       "      <th>1</th>\n",
       "      <td>5</td>\n",
       "      <td>121897939</td>\n",
       "      <td>0 days 12:47:00</td>\n",
       "      <td>1.1</td>\n",
       "      <td>52.579545</td>\n",
       "      <td>50</td>\n",
       "      <td>LM</td>\n",
       "      <td>2</td>\n",
       "      <td>750.0</td>\n",
       "      <td>700</td>\n",
       "      <td>...</td>\n",
       "      <td>True</td>\n",
       "      <td>False</td>\n",
       "      <td>False</td>\n",
       "      <td>False</td>\n",
       "      <td>True</td>\n",
       "      <td>True</td>\n",
       "      <td>False</td>\n",
       "      <td>N</td>\n",
       "      <td>N</td>\n",
       "      <td>N</td>\n",
       "    </tr>\n",
       "    <tr>\n",
       "      <th>2</th>\n",
       "      <td>6</td>\n",
       "      <td>121912882</td>\n",
       "      <td>0 days 11:31:00</td>\n",
       "      <td>0.8</td>\n",
       "      <td>73.671875</td>\n",
       "      <td>200</td>\n",
       "      <td>LAD</td>\n",
       "      <td>3</td>\n",
       "      <td>240.0</td>\n",
       "      <td>1000</td>\n",
       "      <td>...</td>\n",
       "      <td>True</td>\n",
       "      <td>False</td>\n",
       "      <td>False</td>\n",
       "      <td>False</td>\n",
       "      <td>True</td>\n",
       "      <td>False</td>\n",
       "      <td>False</td>\n",
       "      <td>N</td>\n",
       "      <td>N</td>\n",
       "      <td>N</td>\n",
       "    </tr>\n",
       "    <tr>\n",
       "      <th>3</th>\n",
       "      <td>7</td>\n",
       "      <td>121919846</td>\n",
       "      <td>0 days 01:10:00</td>\n",
       "      <td>1.4</td>\n",
       "      <td>50.694444</td>\n",
       "      <td>180</td>\n",
       "      <td>RCA</td>\n",
       "      <td>1</td>\n",
       "      <td>0.0</td>\n",
       "      <td>1281</td>\n",
       "      <td>...</td>\n",
       "      <td>True</td>\n",
       "      <td>False</td>\n",
       "      <td>False</td>\n",
       "      <td>False</td>\n",
       "      <td>True</td>\n",
       "      <td>False</td>\n",
       "      <td>False</td>\n",
       "      <td>N</td>\n",
       "      <td>N</td>\n",
       "      <td>N</td>\n",
       "    </tr>\n",
       "    <tr>\n",
       "      <th>4</th>\n",
       "      <td>15</td>\n",
       "      <td>121970848</td>\n",
       "      <td>0 days 03:40:00</td>\n",
       "      <td>2.2</td>\n",
       "      <td>44.703283</td>\n",
       "      <td>170</td>\n",
       "      <td>LAD</td>\n",
       "      <td>2</td>\n",
       "      <td>72.0</td>\n",
       "      <td>1250</td>\n",
       "      <td>...</td>\n",
       "      <td>False</td>\n",
       "      <td>False</td>\n",
       "      <td>False</td>\n",
       "      <td>False</td>\n",
       "      <td>True</td>\n",
       "      <td>False</td>\n",
       "      <td>False</td>\n",
       "      <td>N</td>\n",
       "      <td>N</td>\n",
       "      <td>N</td>\n",
       "    </tr>\n",
       "  </tbody>\n",
       "</table>\n",
       "<p>5 rows × 74 columns</p>\n",
       "</div>"
      ],
      "text/latex": [
       "\\begin{center}{\\begin{tabular}{lrrlrrrlrrrrlllllllllllllllllllllllllllllrllrrrrrrrllrlllllllllllllllllllll}\n",
       "\\toprule\n",
       "{} &  Unnamed: 0 &     pie.id &        timedelta &  creatinine &  clearance &  Contrast\\_volume & PCI\\_type &  Stents &  Prehydration &  Posthydration &      CVCL &     timedelta\\_24 &  Cathlab\\_time\\_24 & creatinine\\_24 & clearance\\_24 &     timedelta\\_48 &  Cathlab\\_time\\_48 & creatinine\\_48 & clearance\\_48 &     timedelta\\_72 &  Cathlab\\_time\\_72 & creatinine\\_72 & clearance\\_72 & aki\\_24\\_creatinine & aki\\_48\\_creatinine & aki\\_72\\_creatinine & aki\\_24\\_clearance & aki\\_48\\_clearance & aki\\_72\\_clearance &    aki &   ACEi &    ARB &   Loop &  NSAID & Thiazide & aldosterone antagonist & iodixanol & iohexol & mannitol & nephrotoxic &  age\\_x &   sex &           race\\_x &  length.stay\\_x &  height &   weight &  above5 &   ibw &  useweight &  age\\_y & gender &           race\\_y &  length.stay\\_y &        disposition & Deceased & visit.type & Bedded Outpatient & visit.type.class & admit.type &    admit.source & ACS & emergent & nonemergent & Anemia & Hypertension &    CKD &   Afib &   COPD &   CAD & Diabetes &     HF & STEMI & NSTEMI & VFIB \\\\\n",
       "\\midrule\n",
       "0 &           3 &  121870698 &  0 days 12:39:00 &         1.4 &  38.609127 &              100 &       LM &       1 &        1086.0 &           2974 &  2.590061 &  0 days 14:01:00 &   4/3/2015 14:55 &           1.4 &  38.60912698 &  1 days 10:55:00 &   4/3/2015 14:55 &           1.5 &  36.03518519 &  2 days 12:16:00 &   4/3/2015 14:55 &           1.4 &  38.60912698 &             False &             False &             False &            False &            False &            False &  False &  False &  False &  False &  False &    False &                  False &     False &   False &    False &       False &     79 &  Male &            Other &      15.000000 &  167.64 &   86.364 &     6.0 &  63.8 &       63.8 &     79 &   Male &            Other &      15.000000 &  Home or Self Care &    False &  Inpatient &             False &        Inpatient &  Emergency &  Emergency Room &   N &    False &        True &   True &         True &   True &  False &   True &  True &    False &   True &     N &      N &    N \\\\\n",
       "1 &           5 &  121897939 &  0 days 12:47:00 &         1.1 &  52.579545 &               50 &       LM &       2 &         750.0 &            700 &  0.950940 &  0 days 12:43:00 &   4/2/2015 15:47 &             1 &      57.8375 &            FALSE &            FALSE &         FALSE &        FALSE &            FALSE &            FALSE &         FALSE &        FALSE &             False &             False &             False &            False &            False &            False &  False &  False &  False &   True &  False &    False &                  False &     False &   False &    False &        True &     77 &  Male &  White/Caucasian &       8.750000 &  170.18 &   98.773 &     7.0 &  66.1 &       66.1 &     77 &   Male &  White/Caucasian &       8.750000 &  Home or Self Care &    False &  Inpatient &             False &        Inpatient &  Emergency &  Emergency Room &   N &    False &        True &  False &         True &  False &  False &  False &  True &     True &  False &     N &      N &    N \\\\\n",
       "2 &           6 &  121912882 &  0 days 11:31:00 &         0.8 &  73.671875 &              200 &      LAD &       3 &         240.0 &           1000 &  2.714740 &  0 days 03:46:00 &  3/30/2015 15:42 &           0.9 &  65.48611111 &  1 days 13:04:00 &  3/30/2015 15:42 &           0.9 &  65.48611111 &            FALSE &            FALSE &         FALSE &        FALSE &             False &             False &             False &            False &            False &            False &  False &   True &  False &  False &  False &     True &                  False &     False &   False &    False &        True &     71 &  Male &  White/Caucasian &       5.375000 &  165.10 &   71.108 &     5.0 &  61.5 &       61.5 &     71 &   Male &  White/Caucasian &       5.375000 &  Home or Self Care &    False &  Inpatient &             False &        Inpatient &  Emergency &  Emergency Room &   N &    False &        True &  False &         True &  False &  False &  False &  True &    False &  False &     N &      N &    N \\\\\n",
       "3 &           7 &  121919846 &  0 days 01:10:00 &         1.4 &  50.694444 &              180 &      RCA &       1 &           0.0 &           1281 &  3.550685 &  0 days 05:10:00 &  3/27/2015 18:30 &           1.3 &  54.59401709 &  1 days 09:34:00 &  3/27/2015 18:30 &           1.2 &  59.14351852 &  2 days 09:34:00 &  3/27/2015 18:30 &             1 &  70.97222222 &             False &             False &             False &            False &            False &            False &  False &  False &  False &  False &  False &    False &                  False &     False &   False &    False &       False &     70 &  Male &            Other &       2.916667 &  177.80 &  101.364 &    10.0 &  73.0 &       73.0 &     70 &   Male &            FALSE &       2.916667 &  Home or Self Care &    False &  Inpatient &             False &        Inpatient &  Emergency &  Emergency Room &   N &     True &       False &  False &         True &  False &  False &  False &  True &    False &  False &     N &      N &    N \\\\\n",
       "4 &          15 &  121970848 &  0 days 03:40:00 &         2.2 &  44.703283 &              170 &      LAD &       2 &          72.0 &           1250 &  3.802853 &  0 days 01:34:00 &   4/3/2015 13:08 &           1.1 &  89.40656566 &  1 days 15:10:00 &   4/3/2015 13:08 &           0.9 &  109.2746914 &  2 days 14:23:00 &   4/3/2015 13:08 &           0.9 &  109.2746914 &             False &             False &             False &            False &            False &            False &  False &   True &  False &  False &  False &    False &                  False &     False &   False &    False &        True &     43 &  Male &            Asian &       6.500000 &  177.80 &   81.000 &    10.0 &  73.0 &       73.0 &     43 &   Male &            Asian &       6.500000 &  Home or Self Care &    False &  Inpatient &             False &        Inpatient &  Emergency &  Emergency Room &   N &    False &        True &  False &        False &  False &  False &  False &  True &    False &  False &     N &      N &    N \\\\\n",
       "\\bottomrule\n",
       "\\end{tabular}\n",
       "}\\end{center}"
      ],
      "text/plain": [
       "   Unnamed: 0     pie.id        timedelta  creatinine  clearance  \\\n",
       "0           3  121870698  0 days 12:39:00         1.4  38.609127   \n",
       "1           5  121897939  0 days 12:47:00         1.1  52.579545   \n",
       "2           6  121912882  0 days 11:31:00         0.8  73.671875   \n",
       "3           7  121919846  0 days 01:10:00         1.4  50.694444   \n",
       "4          15  121970848  0 days 03:40:00         2.2  44.703283   \n",
       "\n",
       "   Contrast_volume PCI_type  Stents  Prehydration  Posthydration ...   \\\n",
       "0              100       LM       1        1086.0           2974 ...    \n",
       "1               50       LM       2         750.0            700 ...    \n",
       "2              200      LAD       3         240.0           1000 ...    \n",
       "3              180      RCA       1           0.0           1281 ...    \n",
       "4              170      LAD       2          72.0           1250 ...    \n",
       "\n",
       "   Hypertension    CKD   Afib   COPD   CAD Diabetes     HF STEMI NSTEMI VFIB  \n",
       "0          True   True  False   True  True    False   True     N      N    N  \n",
       "1          True  False  False  False  True     True  False     N      N    N  \n",
       "2          True  False  False  False  True    False  False     N      N    N  \n",
       "3          True  False  False  False  True    False  False     N      N    N  \n",
       "4         False  False  False  False  True    False  False     N      N    N  \n",
       "\n",
       "[5 rows x 74 columns]"
      ]
     },
     "execution_count": 5,
     "metadata": {},
     "output_type": "execute_result"
    }
   ],
   "source": [
    "df.head()"
   ]
  },
  {
   "cell_type": "code",
   "execution_count": 43,
   "metadata": {},
   "outputs": [
    {
     "data": {
      "image/png": "[encoded data removed]",
      "text/plain": [
       "<matplotlib.figure.Figure at 0x108a4c9e8>"
      ]
     },
     "metadata": {},
     "output_type": "display_data"
    }
   ],
   "source": [
    "plt.figure(figsize=(16, 8))\n",
    "sns.set(font_scale=2.0)\n",
    "ax = sns.kdeplot(df.loc[df['aki'], 'CVCL'], shade=True, color=\"r\", label='AKI')\n",
    "sns.kdeplot(df.loc[~df['aki'], 'CVCL'], shade=True, color=\"b\", ax=ax, label='No AKI')\n",
    "plt.xlim(0, 20)\n",
    "plt.xlabel('Contrast Volume to Creatinine Clearance Ratio (CVCL)')\n",
    "plt.ylabel('Patients (\\%)')\n",
    "#plt.title('Kernel Density Estimate of Patients \\nwith/without Acute Kidney Injury (AKI)', fontsize=40)\n",
    "plt.tight_layout()\n",
    "plt.show()"
   ]
  },
  {
   "cell_type": "code",
   "execution_count": 6,
   "metadata": {
    "collapsed": true
   },
   "outputs": [],
   "source": [
    "input_columns = [\n",
    "    'Contrast_volume',\n",
    "    'clearance',\n",
    "    'Prehydration',\n",
    "    'Posthydration',\n",
    "    'Bedded Outpatient',\n",
    "    'HF',\n",
    "    'Anemia',\n",
    "]\n",
    "\n",
    "output_column = 'aki'"
   ]
  },
  {
   "cell_type": "code",
   "execution_count": 7,
   "metadata": {},
   "outputs": [],
   "source": [
    "X = df[input_columns]\n",
    "y = df[output_column]"
   ]
  },
  {
   "cell_type": "code",
   "execution_count": 8,
   "metadata": {},
   "outputs": [
    {
     "data": {
      "text/plain": [
       "<matplotlib.axes._subplots.AxesSubplot at 0x107c1bd30>"
      ]
     },
     "execution_count": 8,
     "metadata": {},
     "output_type": "execute_result"
    },
    {
     "data": {
      "image/png": "[encoded data removed]",
      "text/plain": [
       "<matplotlib.figure.Figure at 0x107be5ac8>"
      ]
     },
     "metadata": {},
     "output_type": "display_data"
    }
   ],
   "source": [
    "y.hist()"
   ]
  },
  {
   "cell_type": "markdown",
   "metadata": {},
   "source": [
    "## Step 1 - Choose a Model\n",
    "\n",
    "We chose a logistic regression model to start because it's simple and is suited to handle binary response variable (instead of a continuous one, for which one should use a multiple linear regression)"
   ]
  },
  {
   "cell_type": "code",
   "execution_count": 9,
   "metadata": {
    "collapsed": true
   },
   "outputs": [],
   "source": [
    "logreg = linear_model.LogisticRegression(C=1e5)"
   ]
  },
  {
   "cell_type": "markdown",
   "metadata": {},
   "source": [
    "## Train the model with Cross Validation\n",
    "\n",
    "1. Split data into 80% training and 20% testing set, maintaining the same ratio of response values in each\n",
    "2. Build model on training data\n",
    "3. Apply model to testing data\n",
    "4. Compare results from application on testing data to real values for that testing data\n",
    "\n",
    "5. Do this for multiple trials of splitting your data (this is the cross-validation part, done to get more statistical power)"
   ]
  },
  {
   "cell_type": "code",
   "execution_count": 10,
   "metadata": {},
   "outputs": [],
   "source": [
    "predicted = cross_validation.cross_val_predict(logreg, X, y, cv=10)"
   ]
  },
  {
   "cell_type": "code",
   "execution_count": 11,
   "metadata": {},
   "outputs": [
    {
     "name": "stdout",
     "output_type": "stream",
     "text": [
      "0.918987341772\n"
     ]
    }
   ],
   "source": [
    "print(metrics.accuracy_score(y, predicted))"
   ]
  },
  {
   "cell_type": "code",
   "execution_count": 12,
   "metadata": {},
   "outputs": [
    {
     "name": "stdout",
     "output_type": "stream",
     "text": [
      "             precision    recall  f1-score   support\n",
      "\n",
      "      False       0.93      0.98      0.96       358\n",
      "       True       0.65      0.30      0.41        37\n",
      "\n",
      "avg / total       0.90      0.92      0.91       395\n",
      "\n"
     ]
    }
   ],
   "source": [
    "classification_results = metrics.classification_report(y, predicted)\n",
    "print(classification_results)"
   ]
  }
 ],
 "metadata": {
  "kernelspec": {
   "display_name": "Python 3",
   "language": "python",
   "name": "python3"
  },
  "language_info": {
   "codemirror_mode": {
    "name": "ipython",
    "version": 3
   },
   "file_extension": ".py",
   "mimetype": "text/x-python",
   "name": "python",
   "nbconvert_exporter": "python",
   "pygments_lexer": "ipython3",
   "version": "3.6.1"
  }
 },
 "nbformat": 4,
 "nbformat_minor": 2
}
