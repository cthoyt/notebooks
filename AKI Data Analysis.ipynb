{
 "cells": [
  {
   "cell_type": "code",
   "execution_count": 1,
   "metadata": {},
   "outputs": [
    {
     "name": "stderr",
     "output_type": "stream",
     "text": [
      "/usr/local/lib/python3.6/site-packages/sklearn/cross_validation.py:41: DeprecationWarning: This module was deprecated in version 0.18 in favor of the model_selection module into which all the refactored classes and functions are moved. Also note that the interface of the new CV iterators are different from that of this module. This module will be removed in 0.20.\n",
      "  \"This module will be removed in 0.20.\", DeprecationWarning)\n",
      "/usr/local/lib/python3.6/site-packages/statsmodels/compat/pandas.py:56: FutureWarning: The pandas.core.datetools module is deprecated and will be removed in a future version. Please use the pandas.tseries module instead.\n",
      "  from pandas.core import datetools\n"
     ]
    }
   ],
   "source": [
    "import os\n",
    "import time\n",
    "import sklearn\n",
    "import numpy as np\n",
    "import scipy as scp\n",
    "import matplotlib.pyplot as plt\n",
    "import pandas as pd\n",
    "from sklearn import linear_model\n",
    "from sklearn import metrics, cross_validation\n",
    "import seaborn as sns\n",
    "from sklearn.svm import LinearSVC\n",
    "from sklearn.feature_selection import SelectFromModel\n",
    "import statsmodels.api as sm\n",
    "from sklearn.preprocessing import MinMaxScaler, StandardScaler\n",
    "from sklearn import decomposition\n",
    "import matplotlib.pyplot as plt\n",
    "from sklearn.svm import SVC\n",
    "from sklearn.model_selection import StratifiedKFold\n",
    "from sklearn.feature_selection import RFECV\n",
    "from sklearn.datasets import make_classification"
   ]
  },
  {
   "cell_type": "code",
   "execution_count": 2,
   "metadata": {},
   "outputs": [],
   "source": [
    "%matplotlib inline"
   ]
  },
  {
   "cell_type": "code",
   "execution_count": 3,
   "metadata": {},
   "outputs": [
    {
     "data": {
      "text/plain": [
       "'Sat Oct  7 19:13:56 2017'"
      ]
     },
     "execution_count": 3,
     "metadata": {},
     "output_type": "execute_result"
    }
   ],
   "source": [
    "time.asctime()"
   ]
  },
  {
   "cell_type": "code",
   "execution_count": 4,
   "metadata": {},
   "outputs": [
    {
     "data": {
      "text/html": [
       "<div>\n",
       "<style>\n",
       "    .dataframe thead tr:only-child th {\n",
       "        text-align: right;\n",
       "    }\n",
       "\n",
       "    .dataframe thead th {\n",
       "        text-align: left;\n",
       "    }\n",
       "\n",
       "    .dataframe tbody tr th {\n",
       "        vertical-align: top;\n",
       "    }\n",
       "</style>\n",
       "<table border=\"1\" class=\"dataframe\">\n",
       "  <thead>\n",
       "    <tr style=\"text-align: right;\">\n",
       "      <th></th>\n",
       "      <th>NSTEMI</th>\n",
       "      <th>CVCL</th>\n",
       "      <th>Hypertension</th>\n",
       "      <th>Thiazide</th>\n",
       "      <th>HF</th>\n",
       "      <th>Bedded Outpatient</th>\n",
       "      <th>ACS</th>\n",
       "      <th>iohexol</th>\n",
       "      <th>mannitol</th>\n",
       "      <th>VFIB</th>\n",
       "      <th>...</th>\n",
       "      <th>African American</th>\n",
       "      <th>Asian</th>\n",
       "      <th>Other</th>\n",
       "      <th>White/Caucasian</th>\n",
       "      <th>Clinic or Physician Office Referral</th>\n",
       "      <th>ER TFR FR Clinic</th>\n",
       "      <th>ER TFR from Hospital</th>\n",
       "      <th>Emergency Room</th>\n",
       "      <th>Physician Referral</th>\n",
       "      <th>Tfr/Hosp</th>\n",
       "    </tr>\n",
       "  </thead>\n",
       "  <tbody>\n",
       "    <tr>\n",
       "      <th>3</th>\n",
       "      <td>False</td>\n",
       "      <td>2.590061</td>\n",
       "      <td>True</td>\n",
       "      <td>False</td>\n",
       "      <td>True</td>\n",
       "      <td>False</td>\n",
       "      <td>False</td>\n",
       "      <td>False</td>\n",
       "      <td>False</td>\n",
       "      <td>False</td>\n",
       "      <td>...</td>\n",
       "      <td>0</td>\n",
       "      <td>0</td>\n",
       "      <td>1</td>\n",
       "      <td>0</td>\n",
       "      <td>0</td>\n",
       "      <td>0</td>\n",
       "      <td>0</td>\n",
       "      <td>1</td>\n",
       "      <td>0</td>\n",
       "      <td>0</td>\n",
       "    </tr>\n",
       "    <tr>\n",
       "      <th>5</th>\n",
       "      <td>False</td>\n",
       "      <td>0.950940</td>\n",
       "      <td>True</td>\n",
       "      <td>False</td>\n",
       "      <td>False</td>\n",
       "      <td>False</td>\n",
       "      <td>False</td>\n",
       "      <td>False</td>\n",
       "      <td>False</td>\n",
       "      <td>False</td>\n",
       "      <td>...</td>\n",
       "      <td>0</td>\n",
       "      <td>0</td>\n",
       "      <td>0</td>\n",
       "      <td>1</td>\n",
       "      <td>0</td>\n",
       "      <td>0</td>\n",
       "      <td>0</td>\n",
       "      <td>1</td>\n",
       "      <td>0</td>\n",
       "      <td>0</td>\n",
       "    </tr>\n",
       "    <tr>\n",
       "      <th>6</th>\n",
       "      <td>False</td>\n",
       "      <td>2.714740</td>\n",
       "      <td>True</td>\n",
       "      <td>True</td>\n",
       "      <td>False</td>\n",
       "      <td>False</td>\n",
       "      <td>False</td>\n",
       "      <td>False</td>\n",
       "      <td>False</td>\n",
       "      <td>False</td>\n",
       "      <td>...</td>\n",
       "      <td>0</td>\n",
       "      <td>0</td>\n",
       "      <td>0</td>\n",
       "      <td>1</td>\n",
       "      <td>0</td>\n",
       "      <td>0</td>\n",
       "      <td>0</td>\n",
       "      <td>1</td>\n",
       "      <td>0</td>\n",
       "      <td>0</td>\n",
       "    </tr>\n",
       "    <tr>\n",
       "      <th>7</th>\n",
       "      <td>False</td>\n",
       "      <td>3.550685</td>\n",
       "      <td>True</td>\n",
       "      <td>False</td>\n",
       "      <td>False</td>\n",
       "      <td>False</td>\n",
       "      <td>False</td>\n",
       "      <td>False</td>\n",
       "      <td>False</td>\n",
       "      <td>False</td>\n",
       "      <td>...</td>\n",
       "      <td>0</td>\n",
       "      <td>0</td>\n",
       "      <td>1</td>\n",
       "      <td>0</td>\n",
       "      <td>0</td>\n",
       "      <td>0</td>\n",
       "      <td>0</td>\n",
       "      <td>1</td>\n",
       "      <td>0</td>\n",
       "      <td>0</td>\n",
       "    </tr>\n",
       "    <tr>\n",
       "      <th>15</th>\n",
       "      <td>False</td>\n",
       "      <td>3.802853</td>\n",
       "      <td>False</td>\n",
       "      <td>False</td>\n",
       "      <td>False</td>\n",
       "      <td>False</td>\n",
       "      <td>False</td>\n",
       "      <td>False</td>\n",
       "      <td>False</td>\n",
       "      <td>False</td>\n",
       "      <td>...</td>\n",
       "      <td>0</td>\n",
       "      <td>1</td>\n",
       "      <td>0</td>\n",
       "      <td>0</td>\n",
       "      <td>0</td>\n",
       "      <td>0</td>\n",
       "      <td>0</td>\n",
       "      <td>1</td>\n",
       "      <td>0</td>\n",
       "      <td>0</td>\n",
       "    </tr>\n",
       "  </tbody>\n",
       "</table>\n",
       "<p>5 rows × 77 columns</p>\n",
       "</div>"
      ],
      "text/latex": [
       "\\begin{center}{\\begin{tabular}{llrllllllllllllrlrrrrllrllrrllrllllrrrlllrrrrrrrrrrrrrrrrrrrrrrrrrrrrrrrrrrrrr}\n",
       "\\toprule\n",
       "{} &  NSTEMI &      CVCL &  Hypertension &  Thiazide &     HF &  Bedded Outpatient &    ACS &  iohexol &  mannitol &   VFIB &  Male &  Diabetes &  Anemia &  iodixanol &  useweight &  nonemergent &  length.stay\\_x &  clearance &  Stents &  height &  STEMI &   COPD &  above5 &    ARB &  aldosterone antagonist &   ibw &  age\\_y &  NSAID &    aki &  creatinine &  nephrotoxic &    CKD &   ACEi &   CAD &  Posthydration &  Prehydration &  Contrast\\_volume &   Loop &   Afib &  emergent &   weight &  Deceased &  Inpatient &  Observation &  Outpatient &  d &  lad &  lcx &  lima &  lm &  om &  pda &  ramus &  rca &  svg &  Direct &  Emergency &  Medical Observation &  OB Unregistered &  Preadmit Not OB &  DC/DISC TO REHAB &  DC/TF-Cancer/Childre &  Home Care with Home Health &  Home or Self Care &  Left Against Medical Advise &  Long Term Care &  Skilled Nursing Facility &  African American &  Asian &  Other &  White/Caucasian &  Clinic or Physician Office Referral &  ER TFR FR Clinic &  ER TFR from Hospital &  Emergency Room &  Physician Referral &  Tfr/Hosp \\\\\n",
       "\\midrule\n",
       "3  &   False &  2.590061 &          True &     False &   True &              False &  False &    False &     False &  False &  True &     False &    True &      False &       63.8 &         True &      15.000000 &  38.609127 &       1 &  167.64 &  False &   True &     6.0 &  False &                   False &  63.8 &     79 &  False &  False &         1.4 &        False &   True &  False &  True &           2974 &        1086.0 &              100 &  False &  False &     False &   86.364 &         0 &          1 &            0 &           0 &  0 &    0 &    0 &     0 &   1 &   0 &    0 &      0 &    0 &    0 &       0 &          1 &                    0 &                0 &                0 &                 0 &                     0 &                           0 &                  1 &                            0 &               0 &                         0 &                 0 &      0 &      1 &                0 &                                    0 &                 0 &                     0 &               1 &                   0 &         0 \\\\\n",
       "5  &   False &  0.950940 &          True &     False &  False &              False &  False &    False &     False &  False &  True &      True &   False &      False &       66.1 &         True &       8.750000 &  52.579545 &       2 &  170.18 &  False &  False &     7.0 &  False &                   False &  66.1 &     77 &  False &  False &         1.1 &         True &  False &  False &  True &            700 &         750.0 &               50 &   True &  False &     False &   98.773 &         0 &          1 &            0 &           0 &  0 &    0 &    0 &     0 &   1 &   0 &    0 &      0 &    0 &    0 &       0 &          1 &                    0 &                0 &                0 &                 0 &                     0 &                           0 &                  1 &                            0 &               0 &                         0 &                 0 &      0 &      0 &                1 &                                    0 &                 0 &                     0 &               1 &                   0 &         0 \\\\\n",
       "6  &   False &  2.714740 &          True &      True &  False &              False &  False &    False &     False &  False &  True &     False &   False &      False &       61.5 &         True &       5.375000 &  73.671875 &       3 &  165.10 &  False &  False &     5.0 &  False &                   False &  61.5 &     71 &  False &  False &         0.8 &         True &  False &   True &  True &           1000 &         240.0 &              200 &  False &  False &     False &   71.108 &         0 &          1 &            0 &           0 &  0 &    1 &    0 &     0 &   0 &   0 &    0 &      0 &    0 &    0 &       0 &          1 &                    0 &                0 &                0 &                 0 &                     0 &                           0 &                  1 &                            0 &               0 &                         0 &                 0 &      0 &      0 &                1 &                                    0 &                 0 &                     0 &               1 &                   0 &         0 \\\\\n",
       "7  &   False &  3.550685 &          True &     False &  False &              False &  False &    False &     False &  False &  True &     False &   False &      False &       73.0 &        False &       2.916667 &  50.694444 &       1 &  177.80 &  False &  False &    10.0 &  False &                   False &  73.0 &     70 &  False &  False &         1.4 &        False &  False &  False &  True &           1281 &           0.0 &              180 &  False &  False &      True &  101.364 &         0 &          1 &            0 &           0 &  0 &    0 &    0 &     0 &   0 &   0 &    0 &      0 &    1 &    0 &       0 &          1 &                    0 &                0 &                0 &                 0 &                     0 &                           0 &                  1 &                            0 &               0 &                         0 &                 0 &      0 &      1 &                0 &                                    0 &                 0 &                     0 &               1 &                   0 &         0 \\\\\n",
       "15 &   False &  3.802853 &         False &     False &  False &              False &  False &    False &     False &  False &  True &     False &   False &      False &       73.0 &         True &       6.500000 &  44.703283 &       2 &  177.80 &  False &  False &    10.0 &  False &                   False &  73.0 &     43 &  False &  False &         2.2 &         True &  False &   True &  True &           1250 &          72.0 &              170 &  False &  False &     False &   81.000 &         0 &          1 &            0 &           0 &  0 &    1 &    0 &     0 &   0 &   0 &    0 &      0 &    0 &    0 &       0 &          1 &                    0 &                0 &                0 &                 0 &                     0 &                           0 &                  1 &                            0 &               0 &                         0 &                 0 &      1 &      0 &                0 &                                    0 &                 0 &                     0 &               1 &                   0 &         0 \\\\\n",
       "\\bottomrule\n",
       "\\end{tabular}\n",
       "}\\end{center}"
      ],
      "text/plain": [
       "    NSTEMI      CVCL  Hypertension  Thiazide     HF  Bedded Outpatient    ACS  \\\n",
       "3    False  2.590061          True     False   True              False  False   \n",
       "5    False  0.950940          True     False  False              False  False   \n",
       "6    False  2.714740          True      True  False              False  False   \n",
       "7    False  3.550685          True     False  False              False  False   \n",
       "15   False  3.802853         False     False  False              False  False   \n",
       "\n",
       "    iohexol  mannitol   VFIB    ...     African American  Asian  Other  \\\n",
       "3     False     False  False    ...                    0      0      1   \n",
       "5     False     False  False    ...                    0      0      0   \n",
       "6     False     False  False    ...                    0      0      0   \n",
       "7     False     False  False    ...                    0      0      1   \n",
       "15    False     False  False    ...                    0      1      0   \n",
       "\n",
       "    White/Caucasian  Clinic or Physician Office Referral  ER TFR FR Clinic  \\\n",
       "3                 0                                    0                 0   \n",
       "5                 1                                    0                 0   \n",
       "6                 1                                    0                 0   \n",
       "7                 0                                    0                 0   \n",
       "15                0                                    0                 0   \n",
       "\n",
       "    ER TFR from Hospital  Emergency Room  Physician Referral  Tfr/Hosp  \n",
       "3                      0               1                   0         0  \n",
       "5                      0               1                   0         0  \n",
       "6                      0               1                   0         0  \n",
       "7                      0               1                   0         0  \n",
       "15                     0               1                   0         0  \n",
       "\n",
       "[5 rows x 77 columns]"
      ]
     },
     "execution_count": 4,
     "metadata": {},
     "output_type": "execute_result"
    }
   ],
   "source": [
    "path = os.path.expanduser('/Users/cthoyt/Downloads/esrd_timeseries_admit_comorbidities9_10_all.csv')\n",
    "df = pd.read_csv(path, index_col=0, true_values=['Y', 'TRUE'], false_values=['N', 'FALSE'])\n",
    "\n",
    "df['PCI_type'] = list(map(str.lower, df['PCI_type']))\n",
    "\n",
    "df['Male'] = [e == 'Male' for e in df['sex']]\n",
    "del df['sex']\n",
    "\n",
    "skip = {\n",
    "    'timedelta_24', \n",
    "    'Cathlab_time_24', \n",
    "    'creatinine_24', \n",
    "    'clearance_24',\n",
    "    'timedelta_48', \n",
    "    'Cathlab_time_48', \n",
    "    'creatinine_48', \n",
    "    'clearance_48',\n",
    "    'timedelta_72', \n",
    "    'Cathlab_time_72', \n",
    "    'creatinine_72', \n",
    "    'clearance_72', \n",
    "    'aki_24_creatinine', \n",
    "    'aki_48_creatinine', \n",
    "    'aki_72_creatinine',\n",
    "    'aki_24_clearance', \n",
    "    'aki_48_clearance', \n",
    "    'aki_72_clearance', \n",
    "    'pie.id', \n",
    "    'timedelta',\n",
    "    'visit.type',\n",
    "    'race_y',\n",
    "    'gender', \n",
    "    'age_x', \n",
    "    'length.stay_y'\n",
    "}\n",
    "\n",
    "df = df[list(set(df.columns) - skip)]\n",
    "\n",
    "# Turn all categorical variables into dummy variables\n",
    "catColumns = df.select_dtypes(['object']).columns\n",
    "\n",
    "for c in catColumns:\n",
    "    c_dummies = pd.get_dummies(df[c])\n",
    "    del df[c]\n",
    "    df[c_dummies.columns] = c_dummies\n",
    "    \n",
    "df.head()"
   ]
  },
  {
   "cell_type": "code",
   "execution_count": 5,
   "metadata": {},
   "outputs": [
    {
     "name": "stdout",
     "output_type": "stream",
     "text": [
      "Patients sans AKI: 358\n",
      "Patients with AKI: 37\n"
     ]
    }
   ],
   "source": [
    "print('Patients sans AKI:', (~df['aki']).sum())\n",
    "print('Patients with AKI:', df['aki'].sum())"
   ]
  },
  {
   "cell_type": "code",
   "execution_count": 45,
   "metadata": {},
   "outputs": [
    {
     "data": {
      "image/png": "[encoded data removed]",
      "text/plain": [
       "<matplotlib.figure.Figure at 0x116d96ef0>"
      ]
     },
     "metadata": {},
     "output_type": "display_data"
    }
   ],
   "source": [
    "plt.figure(figsize=(10, 5))\n",
    "sns.set(font_scale=1.4)\n",
    "\n",
    "sns.set_style(\"whitegrid\")\n",
    "ax = sns.kdeplot(df.loc[df['aki'], 'CVCL'], shade=False, color=\"black\", label='CIN')\n",
    "sns.kdeplot(df.loc[~df['aki'], 'CVCL'], shade=False, color=\"grey\", ax=ax, label='No CIN')\n",
    "\n",
    "plt.xlim(0, 20)\n",
    "plt.xlabel('Contrast Volume to Creatinine Clearance Ratio (CVCL)')\n",
    "plt.ylabel('Patients (\\%)')\n",
    "plt.yticks([0, .05, .10, .15, .20, .25], [0, 5, 10, 15, 20, 25], rotation='horizontal')\n",
    "#plt.title('Kernel Density Estimate of Patients \\nwith/without Acute Kidney Injury (AKI)', fontsize=40)\n",
    "plt.tight_layout()\n",
    "\n",
    "plt.savefig('/Users/cthoyt/Desktop/cvcl_figure1.eps')\n",
    "plt.savefig('/Users/cthoyt/Desktop/cvcl_figure1.tiff', dpi=300)\n",
    "plt.show()"
   ]
  },
  {
   "cell_type": "code",
   "execution_count": 7,
   "metadata": {
    "collapsed": true
   },
   "outputs": [],
   "source": [
    "X = df[[c for c in df.columns if c != 'aki']]\n",
    "y = df['aki']"
   ]
  },
  {
   "cell_type": "code",
   "execution_count": 8,
   "metadata": {
    "collapsed": true
   },
   "outputs": [],
   "source": [
    "selected_columns = [\n",
    "    'Contrast_volume',\n",
    "    'clearance',\n",
    "    'Prehydration',\n",
    "    'Posthydration',\n",
    "    'Bedded Outpatient',\n",
    "    'HF',\n",
    "    'Anemia',\n",
    "]"
   ]
  },
  {
   "cell_type": "markdown",
   "metadata": {},
   "source": [
    "# First Attempt\n",
    "\n",
    "## Step 1 - Choose a Model\n",
    "\n",
    "We chose a logistic regression model to start because it's simple and is suited to handle binary response variable (instead of a continuous one, for which one should use a multiple linear regression)"
   ]
  },
  {
   "cell_type": "code",
   "execution_count": 9,
   "metadata": {
    "collapsed": true
   },
   "outputs": [],
   "source": [
    "logreg = linear_model.LogisticRegression(C=1e5)"
   ]
  },
  {
   "cell_type": "markdown",
   "metadata": {},
   "source": [
    "## Step 2 - Train the model with Cross Validation\n",
    "\n",
    "1. Split data into 80% training and 20% testing set, maintaining the same ratio of response values in each\n",
    "2. Build model on training data\n",
    "3. Apply model to testing data\n",
    "4. Compare results from application on testing data to real values for that testing data\n",
    "\n",
    "5. Do this for multiple trials of splitting your data (this is the cross-validation part, done to get more statistical power)"
   ]
  },
  {
   "cell_type": "code",
   "execution_count": 10,
   "metadata": {},
   "outputs": [
    {
     "name": "stdout",
     "output_type": "stream",
     "text": [
      "Accuracy:\n",
      " 0.848101265823\n",
      "\n",
      "Clasification Results:\n",
      "              precision    recall  f1-score   support\n",
      "\n",
      "      False       0.94      0.89      0.91       358\n",
      "       True       0.30      0.46      0.36        37\n",
      "\n",
      "avg / total       0.88      0.85      0.86       395\n",
      "\n"
     ]
    }
   ],
   "source": [
    "predicted = cross_validation.cross_val_predict(logreg, X, y, cv=10)\n",
    "\n",
    "print('Accuracy:\\n', metrics.accuracy_score(y, predicted))\n",
    "classification_results = metrics.classification_report(y, predicted)\n",
    "print('\\nClasification Results:\\n', classification_results)"
   ]
  },
  {
   "cell_type": "markdown",
   "metadata": {},
   "source": [
    "# Second Attempt\n",
    "\n",
    "Last time the results didn't give a very good explanation of what was powering the model. Now we're going to start more simple with a univariate analysis"
   ]
  },
  {
   "cell_type": "markdown",
   "metadata": {},
   "source": [
    "## Building a Linear Model with L2 Regularization\n",
    "\n",
    "This regularization reduces the effect of unimportant variables during model building and gets around the problem of having fewer data, where normal machine learning methods require a step for feature selection then another step for training and validation"
   ]
  },
  {
   "cell_type": "code",
   "execution_count": 11,
   "metadata": {
    "collapsed": true
   },
   "outputs": [],
   "source": [
    "lsvc_l1 = LinearSVC(C=0.01, penalty=\"l1\", dual=False).fit(X, y)"
   ]
  },
  {
   "cell_type": "markdown",
   "metadata": {},
   "source": [
    "Assess the goodness of the model."
   ]
  },
  {
   "cell_type": "code",
   "execution_count": 12,
   "metadata": {},
   "outputs": [
    {
     "name": "stdout",
     "output_type": "stream",
     "text": [
      "0.896202531646\n",
      "             precision    recall  f1-score   support\n",
      "\n",
      "      False       0.91      0.98      0.94       358\n",
      "       True       0.33      0.11      0.16        37\n",
      "\n",
      "avg / total       0.86      0.90      0.87       395\n",
      "\n"
     ]
    }
   ],
   "source": [
    "predicted = cross_validation.cross_val_predict(lsvc_l1, X, y, cv=10)\n",
    "print(metrics.accuracy_score(y, predicted))\n",
    "classification_results = metrics.classification_report(y, predicted)\n",
    "print(classification_results)"
   ]
  },
  {
   "cell_type": "markdown",
   "metadata": {},
   "source": [
    "The L1 regularization was too strict and produced a classifier that just returns false on each. This is an artifact of the fact that the training set has a very uneven number of True and False AKI patients. Next, the L2 regularization is tried."
   ]
  },
  {
   "cell_type": "code",
   "execution_count": 13,
   "metadata": {},
   "outputs": [
    {
     "name": "stdout",
     "output_type": "stream",
     "text": [
      "0.906329113924\n",
      "             precision    recall  f1-score   support\n",
      "\n",
      "      False       0.93      0.97      0.95       358\n",
      "       True       0.50      0.24      0.33        37\n",
      "\n",
      "avg / total       0.89      0.91      0.89       395\n",
      "\n"
     ]
    }
   ],
   "source": [
    "lsvc_l2 = LinearSVC(C=0.01, penalty=\"l2\", dual=False).fit(X, y)\n",
    "\n",
    "predicted = cross_validation.cross_val_predict(lsvc_l2, X, y, cv=10)\n",
    "print(metrics.accuracy_score(y, predicted))\n",
    "classification_results = metrics.classification_report(y, predicted)\n",
    "print(classification_results)"
   ]
  },
  {
   "cell_type": "markdown",
   "metadata": {},
   "source": [
    "After building the model, select features that weren't regularized out."
   ]
  },
  {
   "cell_type": "code",
   "execution_count": 14,
   "metadata": {
    "collapsed": true
   },
   "outputs": [],
   "source": [
    "model = SelectFromModel(lsvc_l2, prefit=True)"
   ]
  },
  {
   "cell_type": "markdown",
   "metadata": {},
   "source": [
    "The coefficients for each feature corresponds to its usefullness in predicting AKI."
   ]
  },
  {
   "cell_type": "code",
   "execution_count": 15,
   "metadata": {},
   "outputs": [
    {
     "data": {
      "text/html": [
       "<div>\n",
       "<style>\n",
       "    .dataframe thead tr:only-child th {\n",
       "        text-align: right;\n",
       "    }\n",
       "\n",
       "    .dataframe thead th {\n",
       "        text-align: left;\n",
       "    }\n",
       "\n",
       "    .dataframe tbody tr th {\n",
       "        vertical-align: top;\n",
       "    }\n",
       "</style>\n",
       "<table border=\"1\" class=\"dataframe\">\n",
       "  <thead>\n",
       "    <tr style=\"text-align: right;\">\n",
       "      <th></th>\n",
       "      <th>0</th>\n",
       "      <th>1</th>\n",
       "    </tr>\n",
       "  </thead>\n",
       "  <tbody>\n",
       "    <tr>\n",
       "      <th>22</th>\n",
       "      <td>Home or Self Care</td>\n",
       "      <td>-0.080282</td>\n",
       "    </tr>\n",
       "    <tr>\n",
       "      <th>19</th>\n",
       "      <td>lm</td>\n",
       "      <td>-0.078021</td>\n",
       "    </tr>\n",
       "    <tr>\n",
       "      <th>12</th>\n",
       "      <td>VFIB</td>\n",
       "      <td>-0.065853</td>\n",
       "    </tr>\n",
       "    <tr>\n",
       "      <th>0</th>\n",
       "      <td>Deceased</td>\n",
       "      <td>-0.051983</td>\n",
       "    </tr>\n",
       "    <tr>\n",
       "      <th>24</th>\n",
       "      <td>Emergency Room</td>\n",
       "      <td>-0.043988</td>\n",
       "    </tr>\n",
       "    <tr>\n",
       "      <th>28</th>\n",
       "      <td>Other</td>\n",
       "      <td>-0.041799</td>\n",
       "    </tr>\n",
       "    <tr>\n",
       "      <th>3</th>\n",
       "      <td>STEMI</td>\n",
       "      <td>-0.041511</td>\n",
       "    </tr>\n",
       "    <tr>\n",
       "      <th>25</th>\n",
       "      <td>Physician Referral</td>\n",
       "      <td>-0.037434</td>\n",
       "    </tr>\n",
       "    <tr>\n",
       "      <th>7</th>\n",
       "      <td>Bedded Outpatient</td>\n",
       "      <td>-0.036040</td>\n",
       "    </tr>\n",
       "    <tr>\n",
       "      <th>8</th>\n",
       "      <td>emergent</td>\n",
       "      <td>-0.030579</td>\n",
       "    </tr>\n",
       "    <tr>\n",
       "      <th>20</th>\n",
       "      <td>svg</td>\n",
       "      <td>0.032158</td>\n",
       "    </tr>\n",
       "    <tr>\n",
       "      <th>6</th>\n",
       "      <td>iodixanol</td>\n",
       "      <td>0.032960</td>\n",
       "    </tr>\n",
       "    <tr>\n",
       "      <th>1</th>\n",
       "      <td>length.stay_x</td>\n",
       "      <td>0.033755</td>\n",
       "    </tr>\n",
       "    <tr>\n",
       "      <th>27</th>\n",
       "      <td>African American</td>\n",
       "      <td>0.034889</td>\n",
       "    </tr>\n",
       "    <tr>\n",
       "      <th>11</th>\n",
       "      <td>Hypertension</td>\n",
       "      <td>0.036252</td>\n",
       "    </tr>\n",
       "    <tr>\n",
       "      <th>18</th>\n",
       "      <td>lcx</td>\n",
       "      <td>0.041715</td>\n",
       "    </tr>\n",
       "    <tr>\n",
       "      <th>26</th>\n",
       "      <td>Tfr/Hosp</td>\n",
       "      <td>0.042783</td>\n",
       "    </tr>\n",
       "    <tr>\n",
       "      <th>5</th>\n",
       "      <td>above5</td>\n",
       "      <td>0.044286</td>\n",
       "    </tr>\n",
       "    <tr>\n",
       "      <th>9</th>\n",
       "      <td>creatinine</td>\n",
       "      <td>0.060716</td>\n",
       "    </tr>\n",
       "    <tr>\n",
       "      <th>13</th>\n",
       "      <td>Diabetes</td>\n",
       "      <td>0.061858</td>\n",
       "    </tr>\n",
       "    <tr>\n",
       "      <th>16</th>\n",
       "      <td>nonemergent</td>\n",
       "      <td>0.068068</td>\n",
       "    </tr>\n",
       "    <tr>\n",
       "      <th>21</th>\n",
       "      <td>Home Care with Home Health</td>\n",
       "      <td>0.071623</td>\n",
       "    </tr>\n",
       "    <tr>\n",
       "      <th>10</th>\n",
       "      <td>Loop</td>\n",
       "      <td>0.073182</td>\n",
       "    </tr>\n",
       "    <tr>\n",
       "      <th>4</th>\n",
       "      <td>Anemia</td>\n",
       "      <td>0.081434</td>\n",
       "    </tr>\n",
       "    <tr>\n",
       "      <th>17</th>\n",
       "      <td>Inpatient</td>\n",
       "      <td>0.081904</td>\n",
       "    </tr>\n",
       "    <tr>\n",
       "      <th>23</th>\n",
       "      <td>Skilled Nursing Facility</td>\n",
       "      <td>0.085732</td>\n",
       "    </tr>\n",
       "    <tr>\n",
       "      <th>15</th>\n",
       "      <td>HF</td>\n",
       "      <td>0.093924</td>\n",
       "    </tr>\n",
       "    <tr>\n",
       "      <th>2</th>\n",
       "      <td>CVCL</td>\n",
       "      <td>0.095874</td>\n",
       "    </tr>\n",
       "    <tr>\n",
       "      <th>14</th>\n",
       "      <td>CKD</td>\n",
       "      <td>0.099054</td>\n",
       "    </tr>\n",
       "  </tbody>\n",
       "</table>\n",
       "</div>"
      ],
      "text/latex": [
       "\\begin{center}{\\begin{tabular}{llr}\n",
       "\\toprule\n",
       "{} &                           0 &         1 \\\\\n",
       "\\midrule\n",
       "22 &           Home or Self Care & -0.080282 \\\\\n",
       "19 &                          lm & -0.078021 \\\\\n",
       "12 &                        VFIB & -0.065853 \\\\\n",
       "0  &                    Deceased & -0.051983 \\\\\n",
       "24 &              Emergency Room & -0.043988 \\\\\n",
       "28 &                       Other & -0.041799 \\\\\n",
       "3  &                       STEMI & -0.041511 \\\\\n",
       "25 &          Physician Referral & -0.037434 \\\\\n",
       "7  &           Bedded Outpatient & -0.036040 \\\\\n",
       "8  &                    emergent & -0.030579 \\\\\n",
       "20 &                         svg &  0.032158 \\\\\n",
       "6  &                   iodixanol &  0.032960 \\\\\n",
       "1  &               length.stay\\_x &  0.033755 \\\\\n",
       "27 &            African American &  0.034889 \\\\\n",
       "11 &                Hypertension &  0.036252 \\\\\n",
       "18 &                         lcx &  0.041715 \\\\\n",
       "26 &                    Tfr/Hosp &  0.042783 \\\\\n",
       "5  &                      above5 &  0.044286 \\\\\n",
       "9  &                  creatinine &  0.060716 \\\\\n",
       "13 &                    Diabetes &  0.061858 \\\\\n",
       "16 &                 nonemergent &  0.068068 \\\\\n",
       "21 &  Home Care with Home Health &  0.071623 \\\\\n",
       "10 &                        Loop &  0.073182 \\\\\n",
       "4  &                      Anemia &  0.081434 \\\\\n",
       "17 &                   Inpatient &  0.081904 \\\\\n",
       "23 &    Skilled Nursing Facility &  0.085732 \\\\\n",
       "15 &                          HF &  0.093924 \\\\\n",
       "2  &                        CVCL &  0.095874 \\\\\n",
       "14 &                         CKD &  0.099054 \\\\\n",
       "\\bottomrule\n",
       "\\end{tabular}\n",
       "}\\end{center}"
      ],
      "text/plain": [
       "                             0         1\n",
       "22           Home or Self Care -0.080282\n",
       "19                          lm -0.078021\n",
       "12                        VFIB -0.065853\n",
       "0                     Deceased -0.051983\n",
       "24              Emergency Room -0.043988\n",
       "28                       Other -0.041799\n",
       "3                        STEMI -0.041511\n",
       "25          Physician Referral -0.037434\n",
       "7            Bedded Outpatient -0.036040\n",
       "8                     emergent -0.030579\n",
       "20                         svg  0.032158\n",
       "6                    iodixanol  0.032960\n",
       "1                length.stay_x  0.033755\n",
       "27            African American  0.034889\n",
       "11                Hypertension  0.036252\n",
       "18                         lcx  0.041715\n",
       "26                    Tfr/Hosp  0.042783\n",
       "5                       above5  0.044286\n",
       "9                   creatinine  0.060716\n",
       "13                    Diabetes  0.061858\n",
       "16                 nonemergent  0.068068\n",
       "21  Home Care with Home Health  0.071623\n",
       "10                        Loop  0.073182\n",
       "4                       Anemia  0.081434\n",
       "17                   Inpatient  0.081904\n",
       "23    Skilled Nursing Facility  0.085732\n",
       "15                          HF  0.093924\n",
       "2                         CVCL  0.095874\n",
       "14                         CKD  0.099054"
      ]
     },
     "execution_count": 15,
     "metadata": {},
     "output_type": "execute_result"
    }
   ],
   "source": [
    "pd.DataFrame(list(zip(X.columns[model.get_support()], lsvc_l2.coef_[0][model.get_support()]))).sort_values(1)"
   ]
  },
  {
   "cell_type": "code",
   "execution_count": 16,
   "metadata": {},
   "outputs": [],
   "source": [
    "#X2 = sm.add_constant(X)\n",
    "#est = sm.OLS(y, X2)\n",
    "#est2 = est.fit()\n",
    "#print(est2.summary())"
   ]
  },
  {
   "cell_type": "markdown",
   "metadata": {},
   "source": [
    "# PCA\n",
    "\n",
    "Sort of like feature selection, PCA is able to identify the \"inner structure\" of the data and eliminate correlations automatically while lowering the dimensionality of the data."
   ]
  },
  {
   "cell_type": "code",
   "execution_count": 17,
   "metadata": {},
   "outputs": [
    {
     "data": {
      "image/png": "[encoded data removed]",
      "text/plain": [
       "<matplotlib.figure.Figure at 0x10bf47198>"
      ]
     },
     "metadata": {},
     "output_type": "display_data"
    },
    {
     "name": "stdout",
     "output_type": "stream",
     "text": [
      "Accuracy:\n",
      " 0.855696202532\n",
      "\n",
      "Classification Results:\n",
      "              precision    recall  f1-score   support\n",
      "\n",
      "      False       0.93      0.91      0.92       358\n",
      "       True       0.26      0.30      0.28        37\n",
      "\n",
      "avg / total       0.86      0.86      0.86       395\n",
      "\n"
     ]
    }
   ],
   "source": [
    "pca1 = decomposition.PCA(n_components=0.95)\n",
    "\n",
    "X_scaled = pd.DataFrame(StandardScaler().fit_transform(X), columns=X.columns)\n",
    "X_pca = pca1.fit_transform(X_scaled)\n",
    "\n",
    "plt.figure(figsize=(15, 3))\n",
    "\n",
    "plt.title(\"PCA Parameter Optimization\")\n",
    "plt.xlabel(\"Number Components\")\n",
    "plt.ylabel(\"Cumulative Explained Variance\")\n",
    "\n",
    "plt.axhline(0.9990, color='r', linestyle='--', linewidth=2)\n",
    "plt.axhline(0.9995, color='y', linestyle='--', linewidth=2)\n",
    "plt.axhline(0.9999, color='g', linestyle='--', linewidth=2)\n",
    "plt.plot(np.cumsum(pca1.explained_variance_ratio_), 'bo-')\n",
    "#plt.ylim(0.998, 1)\n",
    "\n",
    "plt.show()\n",
    "\n",
    "logreg = linear_model.LogisticRegression(C=1e5)\n",
    "\n",
    "predicted = cross_validation.cross_val_predict(logreg, X_pca, y, cv=10)\n",
    "print('Accuracy:\\n', metrics.accuracy_score(y, predicted))\n",
    "classification_results = metrics.classification_report(y, predicted)\n",
    "print('\\nClassification Results:\\n', classification_results)"
   ]
  },
  {
   "cell_type": "markdown",
   "metadata": {},
   "source": [
    "The results from PCA show that as the data are normalized (by either a min-max normalization or standard normalization) that there are no principal components that explain a significant portion of the variance. This means that PCA is an unsuccessful technique."
   ]
  },
  {
   "cell_type": "markdown",
   "metadata": {},
   "source": [
    "# Recursive Feature Elimination"
   ]
  },
  {
   "cell_type": "code",
   "execution_count": 19,
   "metadata": {},
   "outputs": [
    {
     "name": "stderr",
     "output_type": "stream",
     "text": [
      "/usr/local/lib/python3.6/site-packages/sklearn/metrics/classification.py:1113: UndefinedMetricWarning: F-score is ill-defined and being set to 0.0 due to no predicted samples.\n",
      "  'precision', 'predicted', average, warn_for)\n",
      "/usr/local/lib/python3.6/site-packages/sklearn/metrics/classification.py:1113: UndefinedMetricWarning: F-score is ill-defined and being set to 0.0 due to no predicted samples.\n",
      "  'precision', 'predicted', average, warn_for)\n",
      "/usr/local/lib/python3.6/site-packages/sklearn/metrics/classification.py:1113: UndefinedMetricWarning: F-score is ill-defined and being set to 0.0 due to no predicted samples.\n",
      "  'precision', 'predicted', average, warn_for)\n",
      "/usr/local/lib/python3.6/site-packages/sklearn/metrics/classification.py:1113: UndefinedMetricWarning: F-score is ill-defined and being set to 0.0 due to no predicted samples.\n",
      "  'precision', 'predicted', average, warn_for)\n",
      "/usr/local/lib/python3.6/site-packages/sklearn/metrics/classification.py:1113: UndefinedMetricWarning: F-score is ill-defined and being set to 0.0 due to no predicted samples.\n",
      "  'precision', 'predicted', average, warn_for)\n",
      "/usr/local/lib/python3.6/site-packages/sklearn/metrics/classification.py:1113: UndefinedMetricWarning: F-score is ill-defined and being set to 0.0 due to no predicted samples.\n",
      "  'precision', 'predicted', average, warn_for)\n",
      "/usr/local/lib/python3.6/site-packages/sklearn/metrics/classification.py:1113: UndefinedMetricWarning: F-score is ill-defined and being set to 0.0 due to no predicted samples.\n",
      "  'precision', 'predicted', average, warn_for)\n",
      "/usr/local/lib/python3.6/site-packages/sklearn/metrics/classification.py:1113: UndefinedMetricWarning: F-score is ill-defined and being set to 0.0 due to no predicted samples.\n",
      "  'precision', 'predicted', average, warn_for)\n",
      "/usr/local/lib/python3.6/site-packages/sklearn/metrics/classification.py:1113: UndefinedMetricWarning: F-score is ill-defined and being set to 0.0 due to no predicted samples.\n",
      "  'precision', 'predicted', average, warn_for)\n",
      "/usr/local/lib/python3.6/site-packages/sklearn/metrics/classification.py:1113: UndefinedMetricWarning: F-score is ill-defined and being set to 0.0 due to no predicted samples.\n",
      "  'precision', 'predicted', average, warn_for)\n"
     ]
    },
    {
     "name": "stdout",
     "output_type": "stream",
     "text": [
      "Optimal number of features : 6\n"
     ]
    },
    {
     "data": {
      "image/png": "[encoded data removed]",
      "text/plain": [
       "<matplotlib.figure.Figure at 0x113976828>"
      ]
     },
     "metadata": {},
     "output_type": "display_data"
    }
   ],
   "source": [
    "X_sliced = df[selected_columns]\n",
    "\n",
    "\n",
    "# Create the RFE object and compute a cross-validated score.\n",
    "svc = SVC(kernel=\"linear\")\n",
    "# The \"accuracy\" scoring is proportional to the number of correct\n",
    "# classifications\n",
    "rfecv = RFECV(estimator=svc, step=1, cv=StratifiedKFold(2), scoring='f1')\n",
    "rfecv.fit(X_sliced, y)\n",
    "\n",
    "print(\"Optimal number of features : %d\" % rfecv.n_features_)\n",
    "\n",
    "# Plot number of features VS. cross-validation scores\n",
    "plt.figure()\n",
    "plt.xlabel(\"Number of features selected\")\n",
    "plt.ylabel(\"Cross validation score (nb of correct classifications)\")\n",
    "plt.plot(range(1, len(rfecv.grid_scores_) + 1), rfecv.grid_scores_)\n",
    "plt.show()\n"
   ]
  }
 ],
 "metadata": {
  "kernelspec": {
   "display_name": "Python 3",
   "language": "python",
   "name": "python3"
  },
  "language_info": {
   "codemirror_mode": {
    "name": "ipython",
    "version": 3
   },
   "file_extension": ".py",
   "mimetype": "text/x-python",
   "name": "python",
   "nbconvert_exporter": "python",
   "pygments_lexer": "ipython3",
   "version": "3.6.5"
  }
 },
 "nbformat": 4,
 "nbformat_minor": 2
}
